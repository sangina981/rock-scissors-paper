{
 "cells": [
  {
   "cell_type": "markdown",
   "id": "23629d9e",
   "metadata": {},
   "source": [
    "\n",
    "Create a program where the user can play a game of rock, paper, scissors against a computer. Set a play choice (rock, paper, or scissors) for the computer player and during the program, request for the user to input their play choice.\n",
    "\n",
    "The rules in Rock, Paper, Scissors are:\n",
    "\n",
    "Rock beats scissors\n",
    "Scissors beats paper\n",
    "Paper beats rock\n",
    "If the user wins, then display \"You win!\" If they lose against the computer, then display \"You lose.\" If the computer and the user have the same play choice, display \"It's a draw.\"\n",
    "\n",
    "BONUS: Randomize the play choice for the computer (hint: Python has a library called random). Also ask the user if they would like to play again. If they do, start the game again but if not, thank the user for playing the game."
   ]
  },
  {
   "cell_type": "code",
   "execution_count": 1,
   "id": "98c7fe41",
   "metadata": {},
   "outputs": [
    {
     "name": "stdout",
     "output_type": "stream",
     "text": [
      "Choose rock, paper or scissors:scissors\n",
      "It's a draw.\n",
      "Would you like to play again? y/n :y\n",
      "Choose rock, paper or scissors:rock\n",
      "It's a draw.\n",
      "Would you like to play again? y/n :n\n",
      "Thanks for playing the game\n"
     ]
    }
   ],
   "source": [
    "import random as rand  \n",
    "\n",
    "x = [\"rock\", \"paper\", \"scissors\"]\n",
    "\n",
    "answer = \"\"\n",
    "while answer != \"n\":\n",
    "    player = input(\"Choose rock, paper or scissors:\")\n",
    "    computer = x[rand.randint(0,2)]\n",
    "  \n",
    "\n",
    "    if player == computer:\n",
    "        print(\"It's a draw.\")\n",
    "    elif player == \"rock\":\n",
    "        if computer == \"paper\":\n",
    "            print(\"You lose.\")\n",
    "        else:\n",
    "            print(\"You win\")\n",
    "    elif player == \"paper\":\n",
    "        if computer == \"scissors\":\n",
    "            print (\"You lose.\")\n",
    "        else: \n",
    "            print(\"You win.\")\n",
    "    elif player == \"scissors\":\n",
    "        if computer == \"rock\":\n",
    "            print (\"You lose.\")\n",
    "        else:\n",
    "            print(\"You win.\")\n",
    "            \n",
    "    answer = input (\"Would you like to play again? y/n :\")\n",
    "    \n",
    "print(\"Thanks for playing the game\")\n",
    "\n",
    "  \n"
   ]
  },
  {
   "cell_type": "code",
   "execution_count": null,
   "id": "3f096006",
   "metadata": {},
   "outputs": [],
   "source": []
  },
  {
   "cell_type": "code",
   "execution_count": null,
   "id": "d13ddb9e",
   "metadata": {},
   "outputs": [],
   "source": []
  }
 ],
 "metadata": {
  "kernelspec": {
   "display_name": "Python 3 (ipykernel)",
   "language": "python",
   "name": "python3"
  },
  "language_info": {
   "codemirror_mode": {
    "name": "ipython",
    "version": 3
   },
   "file_extension": ".py",
   "mimetype": "text/x-python",
   "name": "python",
   "nbconvert_exporter": "python",
   "pygments_lexer": "ipython3",
   "version": "3.9.12"
  }
 },
 "nbformat": 4,
 "nbformat_minor": 5
}
